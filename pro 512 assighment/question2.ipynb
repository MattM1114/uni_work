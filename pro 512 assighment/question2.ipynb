{
 "cells": [
  {
   "cell_type": "code",
   "execution_count": 15,
   "metadata": {},
   "outputs": [
    {
     "name": "stdout",
     "output_type": "stream",
     "text": [
      "Name: matt, Age: 24, ID: 402310062\n"
     ]
    }
   ],
   "source": [
    "# class 1 person \n",
    "class person:\n",
    "    def __init__(self, name, age,id):\n",
    "        self.name = name\n",
    "        self.age = age\n",
    "        self.id = id\n",
    "\n",
    "    def return_str(self):\n",
    "        return f\"Name: {self.name}, Age: {self.age}, ID: {self.id}\"\n",
    "\n",
    "matt = person(\"matt\",24,\"402310062\")\n",
    "\n",
    "print(matt.return_str())"
   ]
  },
  {
   "cell_type": "code",
   "execution_count": 16,
   "metadata": {},
   "outputs": [
    {
     "name": "stdout",
     "output_type": "stream",
     "text": [
      "Name: matt, Age: 24, ID: 402310062,Major:IT, Enrolled Courses:['Math', 'English', 'programming', 'info systems']\n",
      "matt enrolled in Science\n",
      "Name: matt, Age: 24, ID: 402310062,Major:IT, Enrolled Courses:['Math', 'English', 'programming', 'info systems', 'Science']\n",
      "matt dropped info systems\n",
      "Name: matt, Age: 24, ID: 402310062,Major:IT, Enrolled Courses:['Math', 'English', 'programming', 'Science']\n"
     ]
    }
   ],
   "source": [
    "# class 2 Student inherits  from class 1 Student\n",
    "class student(person):\n",
    "    def __init__(self, name, age, id, major, enrolled_courses):# enrolled courses is a list of courses\n",
    "        # here we need to call the parent method and add 2 attributes\n",
    "        super().__init__(name,age,id)\n",
    "        self.major = major\n",
    "        self.enrolled_courses = enrolled_courses\n",
    "    \n",
    "    def enrol(self, course,course_capacity):\n",
    "        i = len(self.enrolled_courses)\n",
    "        if i  < course_capacity :\n",
    "            self.enrolled_courses.append(course)\n",
    "            return f\"{self.name} enrolled in {course}\"\n",
    "        else:\n",
    "            return  f\"{self.name} cannot enroll in {course} because they  are already enrolled in {i} courses.\"\n",
    "\n",
    "    \n",
    "    def drop(self, course):\n",
    "        if  course in self.enrolled_courses:\n",
    "            self.enrolled_courses.remove(course)\n",
    "            return f\"{self.name} dropped {course}\"\n",
    "        else:\n",
    "            return f\"{self.name} is not enrolled in {course}\"\n",
    "    \n",
    "    def return_str(self):\n",
    "        return f\"{super().return_str()},Major:{self.major}, Enrolled Courses:{self.enrolled_courses}\"\n",
    "\n",
    "# create an object of class student\n",
    "\n",
    "matt_student = student(\"matt\",24,\"402310062\",\"IT\", [\"Math\", \"English\",\"programming\",\"info systems\"])\n",
    "\n",
    "print(matt_student.return_str())\n",
    "\n",
    "print(matt_student.enrol(\"Science\",5))\n",
    "\n",
    "print(matt_student.return_str())\n",
    "\n",
    "print(matt_student.drop(\"info systems\"))\n",
    "\n",
    "print(matt_student.return_str())"
   ]
  },
  {
   "cell_type": "code",
   "execution_count": 28,
   "metadata": {},
   "outputs": [
    {
     "name": "stdout",
     "output_type": "stream",
     "text": [
      "Name: pam, Age: 36, ID: 1113, Department: IT, Courses Teaching: []\n",
      "the course  webtech has been assigned to pam\n",
      "Name: pam, Age: 36, ID: 1113, Department: IT, Courses Teaching: ['webtech']\n"
     ]
    }
   ],
   "source": [
    "#class professor is a child class of person\n",
    "class Professor(person):\n",
    "    def __init__(self, name, age, id, department):\n",
    "        super().__init__(name, age, id)\n",
    "        self.department = department\n",
    "        self.courses_teaching = []\n",
    "\n",
    "    def assign_course(self, course):\n",
    "        self.courses_teaching.append(course)\n",
    "        return f'the course  {course} has been assigned to {self.name}'\n",
    "\n",
    "\n",
    "    def return_str(self):\n",
    "        return f\"{super().return_str()}, Department: {self.department}, Courses Teaching: {self.courses_teaching}\"\n",
    "\n",
    "pam=Professor(name=\"pam\",age=36,id=\"1113\",department=\"IT\")\n",
    "print(pam.return_str())\n",
    "print(pam.assign_course(\"webtech\"))\n",
    "print(pam.return_str())"
   ]
  },
  {
   "cell_type": "code",
   "execution_count": 36,
   "metadata": {},
   "outputs": [
    {
     "name": "stdout",
     "output_type": "stream",
     "text": [
      "Student matt added.\n",
      "Course Code: 512, Name: Math, Max Capacity: 5, Professor: Nasha, Enrolled Students: ['matt']\n"
     ]
    }
   ],
   "source": [
    "class Course:\n",
    "    def __init__(self, course_code, name,professor, max_capacity):\n",
    "        self.course_code = course_code\n",
    "        self.name = name\n",
    "        self.max_capacity = max_capacity\n",
    "        self.professor = professor\n",
    "        self.enrolled_students = []\n",
    "\n",
    "    def add_student(self, student):\n",
    "        if len(self.enrolled_students) < self.max_capacity:\n",
    "            self.enrolled_students.append(student)\n",
    "            return f\"Student {student.name} added.\"\n",
    "        else:\n",
    "            return \"Cannot add student. Capacity full.\"\n",
    "\n",
    "    def remove_student(self, student):\n",
    "        if student in self.enrolled_students:\n",
    "            self.enrolled_students.remove(student)\n",
    "            return f\"Student {student.name} removed.\"\n",
    "        else:\n",
    "            return \"Student not found in course.\"\n",
    "\n",
    "    def __str__(self):\n",
    "        return f\"Course Code: {self.course_code}, Name: {self.name}, Max Capacity: {self.max_capacity}, Professor: {self.professor.name if self.professor else 'None'}, Enrolled Students: {[student.name for student in self.enrolled_students]}\"\n",
    "\n",
    "nasha = Professor(\"Nasha\", 45, \"P1001\", \"Math Department\")\n",
    "math = Course(512,\"Math\",nasha,5)\n",
    "print(math.add_student(matt_student))\n",
    "print(math.__str__())"
   ]
  },
  {
   "cell_type": "code",
   "execution_count": 39,
   "metadata": {},
   "outputs": [
    {
     "name": "stdout",
     "output_type": "stream",
     "text": [
      "None\n",
      "None\n",
      "None\n",
      "Course Code: 512, Name: Math, Max Capacity: 5, Professor: Nasha, Enrolled Students: ['matt']\n",
      "University: Richfield, Courses: ['Math'], Students: ['matt'], Professors: ['Nasha']\n"
     ]
    }
   ],
   "source": [
    "class University:\n",
    "    def __init__(self, name):\n",
    "        self.name = name\n",
    "        self.courses = []\n",
    "        self.students = []\n",
    "        self.professors = []\n",
    "\n",
    "    def add_course(self, course):\n",
    "        self.courses.append(course)\n",
    "\n",
    "    def add_student(self, student):\n",
    "        self.students.append(student)\n",
    "\n",
    "    def add_professor(self, professor):\n",
    "        self.professors.append(professor)\n",
    "\n",
    "    def get_course(self, course_code):\n",
    "        for course in self.courses:\n",
    "            if course.course_code == course_code:\n",
    "                return course\n",
    "        return \"Course not found.\"\n",
    "\n",
    "    def __str__(self):\n",
    "        return f\"University: {self.name}, Courses: {[course.name for course in self.courses]}, Students: {[student.name for student in self.students]}, Professors: {[professor.name for professor in self.professors]}\"\n",
    "\n",
    "richfield = University(\"Richfield\")\n",
    "print(richfield.add_course(math))\n",
    "print(richfield.add_professor(nasha))\n",
    "print(richfield.add_student(matt_student))\n",
    "print(richfield.get_course(512))\n",
    "print(richfield.__str__())\n"
   ]
  },
  {
   "cell_type": "code",
   "execution_count": 46,
   "metadata": {},
   "outputs": [
    {
     "name": "stdout",
     "output_type": "stream",
     "text": [
      "Student Anna added.\n",
      "Student Clara added.\n",
      "Student Bob added.\n",
      "Student Anna added.\n",
      "Student Clara removed.\n",
      "Course Code: 101, Name: Intro to Computer Science, Max Capacity: 5, Professor: Dr. Jones, Enrolled Students: ['Anna']\n",
      "Course Code: 102, Name: programming, Max Capacity: 5, Professor: Dr. Brown, Enrolled Students: ['Bob', 'Anna']\n",
      "<__main__.Professor object at 0x000002D3204BCE90>\n",
      "<__main__.Professor object at 0x000002D3204BF950>\n",
      "University: Awesome University, Courses: ['Intro to Computer Science', 'programming'], Students: ['Anna', 'Bob', 'Clara'], Professors: ['Dr. Jones', 'Dr. Brown']\n"
     ]
    }
   ],
   "source": [
    "# Assuming the classes Person, Student, Professor, Course, University are already defined as per your previous requirements\n",
    "\n",
    "# Create a University\n",
    "university = University(\"Awesome University\")\n",
    "\n",
    "# Create Professors\n",
    "prof_jones = Professor(\"Dr. Jones\", 50, \"P1001\", \"Computer Science\")\n",
    "prof_brown = Professor(\"Dr. Brown\", 45, \"P1002\", \"programming\")\n",
    "\n",
    "# Create Courses\n",
    "cs_course = Course(101, \"Intro to Computer Science\",prof_jones ,5)\n",
    "programming_course = Course(102, \"programming\",prof_brown,5)\n",
    "\n",
    "# Create Students\n",
    "student_anna = student(\"Anna\", 20, \"S1001\",\"IT\", [cs_course])\n",
    "student_bob = student(\"Bob\", 21, \"S1002\",\"IT\", [programming_course])\n",
    "student_clara = student(\"Clara\", 22, \"S1003\",\"IT\", [cs_course,programming_course])\n",
    "# Add students\n",
    "\n",
    "university.add_student(student_anna)\n",
    "university.add_student(student_bob)\n",
    "university.add_student(student_clara)\n",
    "\n",
    "\n",
    "# Add Professors to University\n",
    "university.add_professor(prof_jones)\n",
    "university.add_professor(prof_brown)\n",
    "\n",
    "# Add Courses to University\n",
    "university.add_course(cs_course)\n",
    "university.add_course(programming_course)\n",
    "\n",
    "# Assign Professors to Courses\n",
    "prof_jones.assign_course(cs_course)\n",
    "prof_brown.assign_course(programming_course)\n",
    "\n",
    "# Enroll Students in Courses\n",
    "print(cs_course.add_student(student_anna))\n",
    "print(cs_course.add_student(student_clara))\n",
    "print(programming_course.add_student(student_bob))\n",
    "print(programming_course.add_student(student_anna))  # Should be full\n",
    "\n",
    "# Drop a Student from a Course\n",
    "print(cs_course.remove_student(student_clara))\n",
    "\n",
    "# Print the state of Courses, Students, and Professors\n",
    "print(cs_course)\n",
    "print(programming_course)\n",
    "print(prof_jones)\n",
    "print(prof_brown)\n",
    "print(university)\n"
   ]
  }
 ],
 "metadata": {
  "kernelspec": {
   "display_name": "Python 3",
   "language": "python",
   "name": "python3"
  },
  "language_info": {
   "codemirror_mode": {
    "name": "ipython",
    "version": 3
   },
   "file_extension": ".py",
   "mimetype": "text/x-python",
   "name": "python",
   "nbconvert_exporter": "python",
   "pygments_lexer": "ipython3",
   "version": "3.12.7"
  }
 },
 "nbformat": 4,
 "nbformat_minor": 2
}
