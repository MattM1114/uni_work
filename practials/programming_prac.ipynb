{
 "cells": [
  {
   "cell_type": "code",
   "execution_count": 5,
   "metadata": {},
   "outputs": [
    {
     "name": "stdout",
     "output_type": "stream",
     "text": [
      "[(1, 'Matthew m', 'number 1', 4), (2, 'Lawzi', 'The last king', 10), (3, 'kailen', 'one for all', 6)]\n"
     ]
    }
   ],
   "source": [
    "#tuples within a list of tuples ()\n",
    "y = \"yes\"\n",
    "books = []\n",
    "\n",
    "while y == \"yes\": \n",
    "    book_id = int(input(\"please enter the book id\"))\n",
    "    author = input(\"please enter the author\")\n",
    "    title = input(\"please enter the title\")\n",
    "    avaible = int(input(\"please enter the avaible amount of this book\"))\n",
    "    book = (book_id,author,title,avaible)\n",
    "    books.append(book)\n",
    "    y = input(\"do you want to continue if so pleas enter yes\")\n",
    "\n",
    "print(books)\n"
   ]
  },
  {
   "cell_type": "code",
   "execution_count": 3,
   "metadata": {},
   "outputs": [
    {
     "name": "stdout",
     "output_type": "stream",
     "text": [
      "{1: {'caitlyn': [1, 2, 3, 4]}, 2: {'Maggie': [2, 3, 4]}, 3: {'momo': [3, 4, 2]}}\n"
     ]
    }
   ],
   "source": [
    "borrows = {1:{\"caitlyn\":[1,2,3,4]},2:{\"Maggie\":[2,3,4]},3:{\"momo\":[3,4,2]}}\n",
    "print(borrows)"
   ]
  },
  {
   "cell_type": "code",
   "execution_count": null,
   "metadata": {},
   "outputs": [],
   "source": [
    "book_id = int(input(\"please enter the book id\"))\n",
    "author = input(\"please enter the author\")\n",
    "title = input(\"please enter the title\")\n",
    "avaible = int(input(\"please enter the avaible amount of this book\"))\n",
    "book = (book_id,author,title,avaible)\n",
    "books.append(book)\n",
    "print(books)"
   ]
  },
  {
   "cell_type": "code",
   "execution_count": null,
   "metadata": {},
   "outputs": [],
   "source": []
  }
 ],
 "metadata": {
  "kernelspec": {
   "display_name": "Python 3",
   "language": "python",
   "name": "python3"
  },
  "language_info": {
   "codemirror_mode": {
    "name": "ipython",
    "version": 3
   },
   "file_extension": ".py",
   "mimetype": "text/x-python",
   "name": "python",
   "nbconvert_exporter": "python",
   "pygments_lexer": "ipython3",
   "version": "3.12.7"
  }
 },
 "nbformat": 4,
 "nbformat_minor": 2
}
