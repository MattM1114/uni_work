{
 "cells": [
  {
   "cell_type": "code",
   "execution_count": 1,
   "metadata": {},
   "outputs": [
    {
     "name": "stdout",
     "output_type": "stream",
     "text": [
      "The Dormouse's story\n"
     ]
    }
   ],
   "source": [
    "from bs4 import BeautifulSoup\n",
    "\n",
    "# sample  HTML document\n",
    "html_doc = \"\"\"\n",
    "<html>\n",
    "<head>\n",
    "<title>The Dormouse's story</title>\n",
    "</head>\n",
    "<body>\n",
    "<p class=\"title\"><b>The Dormouse's story</b></p>\n",
    "<p class=\"story\">Once upon a time there were three little sisters; and their names were</p>\n",
    "</body>\n",
    "</html>\n",
    "\"\"\"\n",
    "# Create a  BeautifulSoup object and specify the parser\n",
    "soup = BeautifulSoup(html_doc, 'html.parser')\n",
    "# Extract and print the title of the  HTML document\n",
    "print(soup.title.string)\n",
    "\n",
    "\n",
    "\n",
    "\n"
   ]
  },
  {
   "cell_type": "code",
   "execution_count": 9,
   "metadata": {},
   "outputs": [
    {
     "name": "stdout",
     "output_type": "stream",
     "text": [
      "Mean:  4929573\n",
      "Standard Deviation:  17747225\n",
      "25th percentile:,6292.75\n",
      "50th percentile (median):,7550.5\n",
      "75th percentile:,8695.75\n",
      "The number  of days with more than 7500 steps:  7\n"
     ]
    }
   ],
   "source": [
    "import numpy as  np\n",
    "import pandas as pd\n",
    "import matplotlib.pyplot as plt\n",
    "\n",
    "#  Create an array from the given data. Then, sort this array in descending order. \n",
    "Daily_Steps = [6532,8741,5403,7829,9126,6087,7324,8560,5972,7645,68918102,7456,6213,9034]\n",
    "steps_a =  np.array(Daily_Steps)\n",
    "\n",
    "# Calculate the mean and standard deviation of the daily steps, rounding to the nearest whole number. Display the results. \n",
    "mean = round(np.mean(steps_a))\n",
    "print(\"Mean: \", mean)\n",
    "std_dev =  round(np.std(steps_a))\n",
    "print(\"Standard Deviation: \", std_dev)\n",
    "\n",
    "#. Determine the 25th, 50th (median), and 75th percentiles of the data. Display these results on screen.\n",
    "percentiles = np.percentile(steps_a, [25, 50, 75])\n",
    "print(f\"25th percentile:,{percentiles[0]}\\n50th percentile (median):,{percentiles[1]}\\n75th percentile:,{percentiles[2]}\")\n",
    "\n",
    "above_7500 = np.sum(steps_a >7500)\n",
    "print(\"The number  of days with more than 7500 steps: \", above_7500)\n"
   ]
  }
 ],
 "metadata": {
  "kernelspec": {
   "display_name": "Python 3",
   "language": "python",
   "name": "python3"
  },
  "language_info": {
   "codemirror_mode": {
    "name": "ipython",
    "version": 3
   },
   "file_extension": ".py",
   "mimetype": "text/x-python",
   "name": "python",
   "nbconvert_exporter": "python",
   "pygments_lexer": "ipython3",
   "version": "3.12.6"
  }
 },
 "nbformat": 4,
 "nbformat_minor": 2
}
