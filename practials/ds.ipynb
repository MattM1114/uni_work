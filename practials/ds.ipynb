{
 "cells": [
  {
   "cell_type": "code",
   "execution_count": 11,
   "metadata": {},
   "outputs": [],
   "source": [
    "import numpy as np\n",
    "from scipy import stats\n",
    "marks =[85,90,78,92,88,91,87,94,89,95,83,82,77,90,86]\n",
    "#marks = quantitative,ratio\n",
    "\n",
    "data = np.sort(marks)\n"
   ]
  },
  {
   "cell_type": "code",
   "execution_count": 17,
   "metadata": {},
   "outputs": [
    {
     "name": "stdout",
     "output_type": "stream",
     "text": [
      "87.13333333333334\n",
      "88.0\n",
      "ModeResult(mode=90, count=2)\n"
     ]
    }
   ],
   "source": [
    "mean = np.average(marks)\n",
    "median = np.median(data) \n",
    "mode = stats.mode(marks)\n",
    "print(mean)\n",
    "print(median)\n",
    "print(mode)\n",
    "\n"
   ]
  },
  {
   "cell_type": "code",
   "execution_count": 18,
   "metadata": {},
   "outputs": [
    {
     "name": "stdout",
     "output_type": "stream",
     "text": [
      "26.915555555555557\n",
      "5.188020388891658\n"
     ]
    }
   ],
   "source": [
    "var = np.var(marks)\n",
    "std = np.std(marks)\n",
    "print(var)\n",
    "print(std)"
   ]
  },
  {
   "cell_type": "code",
   "execution_count": 33,
   "metadata": {},
   "outputs": [
    {
     "name": "stdout",
     "output_type": "stream",
     "text": [
      "[1200 1500 1350 1420 1600 1700 1250 1550 1320 1580 1450 1400]\n"
     ]
    }
   ],
   "source": [
    "monthly = np.array([1200, 1500, 1350, 1420, 1600, 1700, 1250, 1550, 1320, 1580, 1450, 1400])\n",
    "print(monthly)\n",
    "\n",
    "\n"
   ]
  },
  {
   "cell_type": "code",
   "execution_count": 34,
   "metadata": {},
   "outputs": [
    {
     "name": "stdout",
     "output_type": "stream",
     "text": [
      "1435.0\n",
      "1443.3333333333333\n"
     ]
    }
   ],
   "source": [
    "mean_monthly = np.mean(monthly)\n",
    "median_monthly = np.median(monthly)\n",
    "\n",
    "\n",
    "print(median_monthly)\n",
    "print(mean_monthly)"
   ]
  },
  {
   "cell_type": "code",
   "execution_count": 35,
   "metadata": {},
   "outputs": [
    {
     "name": "stdout",
     "output_type": "stream",
     "text": [
      "143.37208778404377\n",
      "20555.555555555555\n"
     ]
    }
   ],
   "source": [
    "std_monthly = np.std(monthly)\n",
    "print(std_monthly)\n",
    "var_monthly = np.var(monthly)\n",
    "print(var_monthly)"
   ]
  },
  {
   "cell_type": "code",
   "execution_count": 37,
   "metadata": {},
   "outputs": [
    {
     "name": "stdout",
     "output_type": "stream",
     "text": [
      "9.933401001203956\n"
     ]
    }
   ],
   "source": [
    "co = std_monthly/mean_monthly * 100\n",
    "print(co)"
   ]
  }
 ],
 "metadata": {
  "kernelspec": {
   "display_name": "Python 3",
   "language": "python",
   "name": "python3"
  },
  "language_info": {
   "codemirror_mode": {
    "name": "ipython",
    "version": 3
   },
   "file_extension": ".py",
   "mimetype": "text/x-python",
   "name": "python",
   "nbconvert_exporter": "python",
   "pygments_lexer": "ipython3",
   "version": "3.12.2"
  }
 },
 "nbformat": 4,
 "nbformat_minor": 2
}
