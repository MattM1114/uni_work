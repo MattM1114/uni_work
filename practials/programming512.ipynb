{
 "cells": [
  {
   "cell_type": "code",
   "execution_count": 12,
   "metadata": {},
   "outputs": [
    {
     "ename": "OperationalError",
     "evalue": "table Books already exists",
     "output_type": "error",
     "traceback": [
      "\u001b[1;31m---------------------------------------------------------------------------\u001b[0m",
      "\u001b[1;31mOperationalError\u001b[0m                          Traceback (most recent call last)",
      "Cell \u001b[1;32mIn[12], line 15\u001b[0m\n\u001b[0;32m     12\u001b[0m     conn\u001b[38;5;241m.\u001b[39mcommit()\n\u001b[0;32m     13\u001b[0m     conn\u001b[38;5;241m.\u001b[39mclose()\n\u001b[1;32m---> 15\u001b[0m \u001b[43mcreate_table\u001b[49m\u001b[43m(\u001b[49m\u001b[43m)\u001b[49m\n",
      "Cell \u001b[1;32mIn[12], line 5\u001b[0m, in \u001b[0;36mcreate_table\u001b[1;34m()\u001b[0m\n\u001b[0;32m      3\u001b[0m conn \u001b[38;5;241m=\u001b[39m sql\u001b[38;5;241m.\u001b[39mconnect(\u001b[38;5;124mr\u001b[39m\u001b[38;5;124m\"\u001b[39m\u001b[38;5;124mC:\u001b[39m\u001b[38;5;124m\\\u001b[39m\u001b[38;5;124mUsers\u001b[39m\u001b[38;5;124m\\\u001b[39m\u001b[38;5;124mmattm\u001b[39m\u001b[38;5;124m\\\u001b[39m\u001b[38;5;124mOneDrive\u001b[39m\u001b[38;5;124m\\\u001b[39m\u001b[38;5;124mDocuments\u001b[39m\u001b[38;5;124m\\\u001b[39m\u001b[38;5;124mP512\u001b[39m\u001b[38;5;124m\\\u001b[39m\u001b[38;5;124mlibrary.db\u001b[39m\u001b[38;5;124m\"\u001b[39m)\n\u001b[0;32m      4\u001b[0m cur  \u001b[38;5;241m=\u001b[39m conn\u001b[38;5;241m.\u001b[39mcursor()\n\u001b[1;32m----> 5\u001b[0m \u001b[43mcur\u001b[49m\u001b[38;5;241;43m.\u001b[39;49m\u001b[43mexecute\u001b[49m\u001b[43m(\u001b[49m\u001b[38;5;124;43m\"\"\"\u001b[39;49m\u001b[38;5;124;43mCREATE TABLE Books (\u001b[39;49m\n\u001b[0;32m      6\u001b[0m \u001b[38;5;124;43m    book_id INTEGER PRIMARY KEY AUTOINCREMENT,\u001b[39;49m\n\u001b[0;32m      7\u001b[0m \u001b[38;5;124;43m    title TEXT NOT NULL,\u001b[39;49m\n\u001b[0;32m      8\u001b[0m \u001b[38;5;124;43m    author TEXT NOT NULL,\u001b[39;49m\n\u001b[0;32m      9\u001b[0m \u001b[38;5;124;43m    year INTEGER,\u001b[39;49m\n\u001b[0;32m     10\u001b[0m \u001b[38;5;124;43m    genre TEXT  )\u001b[39;49m\u001b[38;5;124;43m\"\"\"\u001b[39;49m\u001b[43m)\u001b[49m\n\u001b[0;32m     12\u001b[0m conn\u001b[38;5;241m.\u001b[39mcommit()\n\u001b[0;32m     13\u001b[0m conn\u001b[38;5;241m.\u001b[39mclose()\n",
      "\u001b[1;31mOperationalError\u001b[0m: table Books already exists"
     ]
    }
   ],
   "source": [
    "import sqlite3 as  sql\n",
    "def create_table():\n",
    "    conn = sql.connect(r\"C:\\Users\\mattm\\OneDrive\\Documents\\P512\\library.db\")\n",
    "    cur  = conn.cursor()\n",
    "    cur.execute(\"\"\"CREATE TABLE Books (\n",
    "        book_id INTEGER PRIMARY KEY AUTOINCREMENT,\n",
    "        title TEXT NOT NULL,\n",
    "        author TEXT NOT NULL,\n",
    "        year INTEGER,\n",
    "        genre TEXT  )\"\"\")\n",
    "    \n",
    "    conn.commit()\n",
    "    conn.close()\n",
    "\n",
    "create_table()"
   ]
  },
  {
   "cell_type": "code",
   "execution_count": 11,
   "metadata": {},
   "outputs": [],
   "source": [
    "import sqlite3 as  sql\n",
    "def create_2tables():\n",
    "    con = sql.connect(\"student.db\")\n",
    "    cur = con.cursor()\n",
    "    cur.execute(\"\"\"CREATE TABLE student_details(\n",
    "        student_id REAL PRIMARY KEY ,\n",
    "        first_name TEXT NOT NULL,\n",
    "        last_name TEXT NOT NULL,\n",
    "        email  TEXT NOT NULL UNIQUE\n",
    "        )\"\"\")\n",
    "    \n",
    "    cur.execute(\"\"\"CREATE TABLE enrollment(\n",
    "        enrollment_id INTEGER PRIMARY KEY AUTOINCREMENT,\n",
    "        student_id REAL,\n",
    "        course_name TEXT NOT NULL,\n",
    "        enrollment_date DATE NOT NULL,\n",
    "        FOREIGN KEY (student_id) REFERENCES student_details(student_id)\n",
    "        )\"\"\")\n",
    "    \n",
    "    con.commit()\n",
    "    con.close()\n",
    "create_2tables()"
   ]
  },
  {
   "cell_type": "code",
   "execution_count": 2,
   "metadata": {},
   "outputs": [],
   "source": [
    "import pandas as pd\n",
    "import sqlite3 as sql\n",
    "\n",
    "# data for student_details \n",
    "student_data = {\n",
    "    \"Student_id\": [1.01, 2.01, 3.02, 4.03, 5.04],\n",
    "    \"first_name\":  [\"John\", \"Mary\", \"David\", \"Emma\", \"Oliver\"],\n",
    "    \"last_name\": [\"Doe\", \"Smith\", \"Johnson\", \"Williams\", \"Brown\"],\n",
    "    \"email\":['John.doe@gmail.com','mary.smith@gmail.com','david.johnson','emma_williams@gmail.com','oli_brown@gmail.com']\n",
    "\n",
    "}\n",
    "\n",
    "enrollment_data =  {\n",
    "    \"Student_id\": [1.01, 2.01, 3.02,4.03,5.04],\n",
    "    \"course_name\":['math','IT','science','gd','bio'],\n",
    "    'enrollment_date':['2024-01-01','2024-02-01','2024-03-01','2024-03-01','2024-02-01']\n",
    "}\n",
    "\n",
    "# create a DataFrame from the dictionary\n",
    "student_df = pd.DataFrame(student_data)\n",
    "enrollment_df = pd.DataFrame(enrollment_data)\n",
    "\n",
    "# create a connection to the database\n",
    "conn = sql.connect('student.db')\n",
    "\n",
    "# insert the data frames into the tables\n",
    "student_df.to_sql('student_details', conn, if_exists='replace', index=False)\n",
    "enrollment_df.to_sql('enrollment', conn, if_exists='append', index=False)\n",
    "\n",
    "# Close the connection\n",
    "conn.close()\n"
   ]
  },
  {
   "cell_type": "code",
   "execution_count": 5,
   "metadata": {},
   "outputs": [
    {
     "name": "stdout",
     "output_type": "stream",
     "text": [
      "Data from student_details:\n",
      "(1.01, 'John', 'Doe', 'John.doe@gmail.com')\n",
      "(2.01, 'Mary', 'Smith', 'mary.smith@gmail.com')\n",
      "(3.02, 'David', 'Johnson', 'david.johnson')\n",
      "(4.03, 'Emma', 'Williams', 'emma_williams@gmail.com')\n",
      "(5.04, 'Oliver', 'Brown', 'oli_brown@gmail.com')\n",
      "\n",
      "Data from enrollment:\n",
      "(1, 1.01, 'math', '2024-01-01')\n",
      "(2, 2.01, 'IT', '2024-02-01')\n",
      "(3, 3.02, 'science', '2024-03-01')\n",
      "(4, 4.03, 'gd', '2024-03-01')\n",
      "(5, 5.04, 'bio', '2024-02-01')\n",
      "\n"
     ]
    }
   ],
   "source": [
    "import sqlite3 as sql\n",
    "\n",
    "# Connect to the database\n",
    "conn = sql.connect(\"student.db\")\n",
    "cur = conn.cursor()\n",
    "\n",
    "# Function to fetch and print data from a specified table\n",
    "def fetch_and_print_table_data(table_name):\n",
    "    cur.execute(f\"SELECT * FROM {table_name};\")\n",
    "    rows = cur.fetchall()\n",
    "    print(f\"Data from {table_name}:\")\n",
    "    for row in rows:\n",
    "        print(row)\n",
    "    print()  # Print a newline for better readability\n",
    "\n",
    "# Fetch and print data from all tables\n",
    "tables = [\"student_details\", \"enrollment\"]\n",
    "for table in tables:\n",
    "    fetch_and_print_table_data(table)\n",
    "\n",
    "# Close the connection\n",
    "conn.close()\n"
   ]
  },
  {
   "cell_type": "code",
   "execution_count": 2,
   "metadata": {},
   "outputs": [],
   "source": [
    "import sqlite3 as sql\n",
    "\n",
    "con = sql.connect(\"student.db\")\n",
    "cur = con.cursor()\n",
    "\n",
    "cur.execute(\"Drop TABLE IF EXISTS enrollment\")\n",
    "\n",
    "con.close()\n"
   ]
  },
  {
   "cell_type": "code",
   "execution_count": 12,
   "metadata": {},
   "outputs": [],
   "source": [
    "import sqlite3 as sql\n",
    "\n",
    "conn = sql.connect(\"student.db\")\n",
    "cur = conn.cursor()\n",
    "cur.execute('''INSERT INTO student_details (student_id,first_name ,last_name,email)\n",
    "            VALUES (6.05,\"Matthew\",\"Magadza\",\"matt_magadza@gmail.com\");''')\n",
    "conn.commit()\n",
    "\n",
    "conn.close()"
   ]
  },
  {
   "cell_type": "code",
   "execution_count": null,
   "metadata": {},
   "outputs": [],
   "source": []
  },
  {
   "cell_type": "code",
   "execution_count": 18,
   "metadata": {},
   "outputs": [
    {
     "name": "stdout",
     "output_type": "stream",
     "text": [
      "      1.01 John       Doe        John.doe@gmail.com\n",
      "      2.01 Mary       Smith      mary.smith@gmail.com\n",
      "      3.02 David      Johnson    david.johnson\n",
      "      4.03 Emma       Williams   emma_williams@gmail.com\n",
      "      5.04 Oliver     Brown      oli.brown@gmail.com\n",
      "      6.05 Matthew    Magadza    matt_magadza@gmail.com\n",
      "      7.06 Mike       Jackson    mike.jackson@gmail.com\n"
     ]
    }
   ],
   "source": [
    "import sqlite3 as sql \n",
    "conn = sql.connect(\"student.db\")\n",
    "cur = conn.cursor()\n",
    "\n",
    "cur.execute('SELECT * FROM student_details')\n",
    "results = cur.fetchall()\n",
    "\n",
    "for row in results:\n",
    "    print(f\"{row[0]:10} {row[1]:10} {row[2]:10} {row[3]:10}\")\n",
    "\n",
    "conn.close()"
   ]
  },
  {
   "cell_type": "code",
   "execution_count": 12,
   "metadata": {},
   "outputs": [],
   "source": [
    "import sqlite3 as sql\n",
    "\n",
    "# Connect to the database\n",
    "conn = sql.connect(\"student.db\")\n",
    "cur = conn.cursor()\n",
    "\n",
    "# Update the email for a specific student\n",
    "cur.execute(\"\"\"\n",
    "    UPDATE student_details\n",
    "    SET email = 'oli.brown@gmail.com'\n",
    "    WHERE first_name = 'Oliver';\n",
    "\"\"\")\n",
    "\n",
    "# Commit the changes\n",
    "conn.commit()\n",
    "\n",
    "\n",
    "# Close the connection\n",
    "conn.close()\n"
   ]
  },
  {
   "cell_type": "code",
   "execution_count": 15,
   "metadata": {},
   "outputs": [],
   "source": [
    "import sqlite3 as sql\n",
    "\n",
    "# Connect to the database\n",
    "conn = sql.connect(\"student.db\")\n",
    "cur = conn.cursor()\n",
    "\n",
    "# Loop to insert data\n",
    "i = \"yes\"\n",
    "while i == \"yes\":\n",
    "    # Get input from the user for each field\n",
    "    student_id = input(\"Enter Student ID: \")\n",
    "    first_name = input(\"Enter First Name: \")\n",
    "    last_name = input(\"Enter Last Name: \")\n",
    "    email = input(\"Enter Email: \")\n",
    "\n",
    "    # Execute the insert statement with the provided values\n",
    "    cur.execute('''INSERT INTO student_details (student_id, first_name, last_name, email)\n",
    "                VALUES (?, ?, ?, ?);''', (student_id, first_name, last_name, email))\n",
    "\n",
    "    # Commit the transaction\n",
    "    conn.commit()\n",
    "\n",
    "    # Ask if the user wants to insert another record\n",
    "    i = input(\"Do you want to insert another record? (yes/no): \").lower()\n",
    "\n",
    "# Close the connection\n",
    "conn.close()\n"
   ]
  },
  {
   "cell_type": "code",
   "execution_count": 17,
   "metadata": {},
   "outputs": [],
   "source": [
    "import sqlite3 as sql\n",
    "\n",
    "# Connect to the database\n",
    "conn = sql.connect(\"student.db\")\n",
    "cur = conn.cursor()\n",
    "\n",
    "# Update the email for a specific student\n",
    "cur.execute(\"\"\"\n",
    "    DELETE FROM student_details\n",
    "    WHERE first_name = '';\n",
    "\"\"\")\n",
    "\n",
    "# Commit the changes\n",
    "conn.commit()\n",
    "\n",
    "\n",
    "# Close the connection\n",
    "conn.close()\n"
   ]
  }
 ],
 "metadata": {
  "kernelspec": {
   "display_name": "Python 3",
   "language": "python",
   "name": "python3"
  },
  "language_info": {
   "codemirror_mode": {
    "name": "ipython",
    "version": 3
   },
   "file_extension": ".py",
   "mimetype": "text/x-python",
   "name": "python",
   "nbconvert_exporter": "python",
   "pygments_lexer": "ipython3",
   "version": "3.12.7"
  }
 },
 "nbformat": 4,
 "nbformat_minor": 2
}
