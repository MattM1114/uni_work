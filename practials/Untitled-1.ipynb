{
 "cells": [
  {
   "cell_type": "code",
   "execution_count": 1,
   "metadata": {},
   "outputs": [],
   "source": [
    "# Q1. the difference between a list and tuple \n",
    "# is that  list is mutable \n",
    "# and tuple is immutable.\n",
    "list1= [1,2,3]\n",
    "tuple1 =  (1,2,3)\n"
   ]
  },
  {
   "cell_type": "code",
   "execution_count": 4,
   "metadata": {},
   "outputs": [
    {
     "name": "stdout",
     "output_type": "stream",
     "text": [
      "[1, 2, 3, 4, 5, 6, 7, 8]\n"
     ]
    }
   ],
   "source": [
    "# q2 this function adds or \n",
    "# sorts the list \n",
    "user = input (\"please enter the what you would like to do the  list: add or sort \") \n",
    "\n",
    "\n",
    "\n",
    "num_lst = [5,2,1,3,4,6,7,8]\n",
    "\n",
    "def sort_and_update_list(input_list, u):\n",
    "    # add the element to the list\n",
    "    if  u == \"add\":\n",
    "        number =  int(input(\"please enter the number of elements you would like to add to the list: \"))\n",
    "        input_list.append(number)\n",
    "    else:\n",
    "        input_list.sort()\n",
    "    return input_list\n",
    "\n",
    "# this is the function call with the user input and the list\n",
    "print(sort_and_update_list(num_lst,user))\n"
   ]
  },
  {
   "cell_type": "code",
   "execution_count": 5,
   "metadata": {},
   "outputs": [
    {
     "name": "stdout",
     "output_type": "stream",
     "text": [
      "1 2 3\n"
     ]
    }
   ],
   "source": [
    "# Given the tuple t = (1, 2, 3), unpack the values into three variables: a, b, c.\n",
    "# Then, print the values of a, b, and c.\n",
    "t = (1, 2, 3)\n",
    "a, b, c = t \n",
    "print(a, b, c)  # Output: 1 2 3"
   ]
  },
  {
   "cell_type": "code",
   "execution_count": 9,
   "metadata": {},
   "outputs": [
    {
     "name": "stdout",
     "output_type": "stream",
     "text": [
      "True\n",
      "True\n",
      "True\n",
      "True\n"
     ]
    }
   ],
   "source": [
    "my_list = [1, 2, 3, 4]\n",
    "my_tuple =  (1, 2, 3, 4)\n",
    "\n",
    "print(3 in my_list)  # Output: True\n",
    "print(5 not in my_list)  # Output: True\n",
    "print (3 in my_tuple)  # Output: True\n",
    "print(5 not in my_tuple)\n",
    "\n"
   ]
  },
  {
   "cell_type": "markdown",
   "metadata": {},
   "source": []
  }
 ],
 "metadata": {
  "kernelspec": {
   "display_name": "Python 3",
   "language": "python",
   "name": "python3"
  },
  "language_info": {
   "codemirror_mode": {
    "name": "ipython",
    "version": 3
   },
   "file_extension": ".py",
   "mimetype": "text/x-python",
   "name": "python",
   "nbconvert_exporter": "python",
   "pygments_lexer": "ipython3",
   "version": "3.12.6"
  }
 },
 "nbformat": 4,
 "nbformat_minor": 2
}
