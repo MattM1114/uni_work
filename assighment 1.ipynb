{
 "cells": [
  {
   "cell_type": "code",
   "execution_count": 10,
   "metadata": {},
   "outputs": [
    {
     "name": "stdout",
     "output_type": "stream",
     "text": [
      "Access Granted\n"
     ]
    }
   ],
   "source": [
    "#\n",
    "#this is the user name and password\n",
    "\n",
    "name = \"Matthew\"\n",
    "password = \"1234567890\"\n",
    "\n",
    "# this is os the user can enter the username and password\n",
    "username = input('Please enter your username')\n",
    "user_password = input('please enter your password')\n",
    "\n",
    "#this will check if the password \n",
    "if username== name and user_password == password:\n",
    "    print(\"Access Granted\")\n",
    "else:\n",
    "    print(\"Access Denied, Please Check Your User Name or Password\")\n",
    "\n"
   ]
  },
  {
   "cell_type": "code",
   "execution_count": 11,
   "metadata": {},
   "outputs": [
    {
     "name": "stdout",
     "output_type": "stream",
     "text": [
      "the factorial of 99.0 is 9801.0\n"
     ]
    }
   ],
   "source": [
    "num = float(input())\n",
    "\n",
    "#calculate the factorial of num with a while loop\n",
    "if num > 0:\n",
    "    i = 1\n",
    "\n",
    "    while i <= num:\n",
    "        total = i * num\n",
    "        i+=1\n",
    "    print(f\"the factorial of {num} is {total}\")\n",
    "else:\n",
    "    print(\"this number is in valid \")\n",
    "\n"
   ]
  },
  {
   "cell_type": "code",
   "execution_count": 49,
   "metadata": {},
   "outputs": [
    {
     "name": "stdout",
     "output_type": "stream",
     "text": [
      "        *\n",
      "       ***\n",
      "      *****\n",
      "     *******\n",
      "    *********\n",
      "   ***********\n",
      "  *************\n",
      " ***************\n",
      "*****************\n"
     ]
    }
   ],
   "source": [
    "num= int(input(\"please enter a number \"))\n",
    "\n",
    "for i in range(num):\n",
    "    # this will print the starting \" \" \n",
    "    for j in range(num-i-1):\n",
    "        print(\" \",end=\"\")\n",
    "    # this will print the *\n",
    "    for k  in range (2*i+1):\n",
    "        print(\"*\",end=\"\")\n",
    "    # this will move to the next line \n",
    "    print()\n"
   ]
  }
 ],
 "metadata": {
  "kernelspec": {
   "display_name": "Python 3",
   "language": "python",
   "name": "python3"
  },
  "language_info": {
   "codemirror_mode": {
    "name": "ipython",
    "version": 3
   },
   "file_extension": ".py",
   "mimetype": "text/x-python",
   "name": "python",
   "nbconvert_exporter": "python",
   "pygments_lexer": "ipython3",
   "version": "3.11.9"
  }
 },
 "nbformat": 4,
 "nbformat_minor": 2
}
