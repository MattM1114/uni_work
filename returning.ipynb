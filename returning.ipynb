{
 "cells": [
  {
   "cell_type": "code",
   "execution_count": 2,
   "metadata": {},
   "outputs": [
    {
     "name": "stdout",
     "output_type": "stream",
     "text": [
      "16.0\n"
     ]
    }
   ],
   "source": [
    "#this function returns the the power of a number \n",
    "def power_of_num():\n",
    "    num1 =float(input(\"please enter a number \"))\n",
    "    num2 = float(input(\"please enter the seconde number \"))\n",
    "    power = num1**num2\n",
    "    return power\n",
    "    \n",
    "def main():\n",
    "    print(power_of_num())\n",
    "    \n",
    "    \n",
    "main()"
   ]
  },
  {
   "cell_type": "code",
   "execution_count": 8,
   "metadata": {},
   "outputs": [
    {
     "name": "stdout",
     "output_type": "stream",
     "text": [
      "This program calculates the average of numbers entered by user.\n"
     ]
    },
    {
     "name": "stdout",
     "output_type": "stream",
     "text": [
      "14.333333333333334\n"
     ]
    }
   ],
   "source": [
    "# average of a list \n",
    "def average_of_a_list():\n",
    "    num_list = []\n",
    "    i = \"y\"\n",
    "    while i == \"y\":\n",
    "        num = float(input(\"please enter a number \"))\n",
    "        num_list.append(num)\n",
    "        i = input(\"do you want to enter another number if press y\") \n",
    "    else:\n",
    "        return(sum(num_list)/len(num_list))\n",
    "\n",
    "def main():\n",
    "    print(\"This program calculates the average of numbers entered by user.\")\n",
    "    print(average_of_a_list())\n",
    "\n",
    "main()"
   ]
  },
  {
   "cell_type": "code",
   "execution_count": 13,
   "metadata": {},
   "outputs": [
    {
     "name": "stdout",
     "output_type": "stream",
     "text": [
      "odd\n"
     ]
    }
   ],
   "source": [
    "# this check if it is even or odd\n",
    "def check_even():\n",
    "    num = int(input(\"Enter a number: \"))\n",
    "    if num % 2 == 0:\n",
    "        return \"even\"\n",
    "    else:\n",
    "        return \"odd\"\n",
    "\n",
    "def main():\n",
    "    print(check_even())\n",
    "main()"
   ]
  },
  {
   "cell_type": "code",
   "execution_count": 14,
   "metadata": {},
   "outputs": [
    {
     "name": "stdout",
     "output_type": "stream",
     "text": [
      "This program adds two numbers.\n",
      "3\n"
     ]
    }
   ],
   "source": [
    "# sum of two numbers\n",
    "# Write a program that adds two given integers and returns the result.\n",
    "def adding():\n",
    "    num1 = float(input(\"Enter first number: \"))\n",
    "    num2 = float(input(\"Enter second number: \"))\n",
    "    return num1 + num2\n",
    "\n",
    "def main():\n",
    "    print(\"This program adds two numbers.\")\n",
    "    print(adding())\n",
    "main()"
   ]
  },
  {
   "cell_type": "code",
   "execution_count": 16,
   "metadata": {},
   "outputs": [
    {
     "name": "stdout",
     "output_type": "stream",
     "text": [
      "(-0.13454006867188273, -14.865459931328118)\n"
     ]
    }
   ],
   "source": [
    "# \n",
    "def quadratic_roots(a,b,c):\n",
    "    # Calculate the discriminant\n",
    "    d = b*b - 4*a*c\n",
    "    # check if d is positive \n",
    "    if d > 0:\n",
    "        # calculate real roots\n",
    "        root1 = (-b +(d ** 0.5))/(2*a)\n",
    "        root2 = (-b-(d**0.5))/(2*a)\n",
    "        return root1, root2\n",
    "    else:\n",
    "        # Calculate complex roots manually\n",
    "        real_part = -b/(2*a)\n",
    "        imaginary_part = ((-d)** 0.5)/(2*a)\n",
    "        root1 = complex(real_part, imaginary_part)\n",
    "        root2 = complex(real_part, -imaginary_part)\n",
    "        return root1, root2 \n",
    "    \n",
    "def main():\n",
    "    a = float(input(\"please enter the 1st number \"))\n",
    "    b = float(input(\"please enter the 2nd number \"))\n",
    "    c = float(input(\"please enter the 3rd number\"))\n",
    "    print(quadratic_roots(a,b,c))\n",
    "main()"
   ]
  },
  {
   "cell_type": "code",
   "execution_count": 17,
   "metadata": {},
   "outputs": [
    {
     "name": "stdout",
     "output_type": "stream",
     "text": [
      "True\n"
     ]
    }
   ],
   "source": [
    "def check_leap_year():\n",
    "    # This function checks if a year is a leap year or not.\n",
    "    # A leap year is divisible by 4, but not divisible by 100 unless it's also divisible by 400.\n",
    "    year = int(input(\"Enter the year to be checked: \"))\n",
    "    if (year % 4 == 0 and year % 100 != 0) or (year % 400 == 0):\n",
    "        return True\n",
    "    else:\n",
    "        return False\n",
    "\n",
    "# Calling the function\n",
    "print(check_leap_year())"
   ]
  },
  {
   "cell_type": "code",
   "execution_count": 30,
   "metadata": {},
   "outputs": [
    {
     "name": "stdout",
     "output_type": "stream",
     "text": [
      "The number of vowels is 1\n"
     ]
    }
   ],
   "source": [
    "# counts the vowels in a word but it has a problem it is not counting all the vowels ask sir how to fix\n",
    "def count_vowels():\n",
    "    vowels = ['a', 'e', 'i', 'o', 'u']\n",
    "    word = input(\"Enter a word: \")\n",
    "    count = 0\n",
    "    for letter in word.lower():\n",
    "        if letter in vowels:\n",
    "            count = count + 1\n",
    "            return count\n",
    "\n",
    "print(f\"The number of vowels is {count_vowels()}\")"
   ]
  },
  {
   "cell_type": "code",
   "execution_count": 31,
   "metadata": {},
   "outputs": [
    {
     "name": "stdout",
     "output_type": "stream",
     "text": [
      "wehttaM\n"
     ]
    }
   ],
   "source": [
    "# this function will revers a string\n",
    "def revers_string():\n",
    "    ustring = input(\"Enter the string: \")\n",
    "    return ustring[::-1]\n",
    "\n",
    "print(revers_string())\n"
   ]
  }
 ],
 "metadata": {
  "kernelspec": {
   "display_name": "Python 3",
   "language": "python",
   "name": "python3"
  },
  "language_info": {
   "codemirror_mode": {
    "name": "ipython",
    "version": 3
   },
   "file_extension": ".py",
   "mimetype": "text/x-python",
   "name": "python",
   "nbconvert_exporter": "python",
   "pygments_lexer": "ipython3",
   "version": "3.12.2"
  }
 },
 "nbformat": 4,
 "nbformat_minor": 2
}
