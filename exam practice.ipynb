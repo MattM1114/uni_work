{
 "cells": [
  {
   "cell_type": "code",
   "execution_count": 15,
   "metadata": {},
   "outputs": [
    {
     "name": "stdout",
     "output_type": "stream",
     "text": [
      "[0, 1, 1, 2, 3, 5, 8, 13, 21, 34, 55, 89, 144, 233, 377]\n"
     ]
    }
   ],
   "source": [
    "# the Fibonacci is when the next sum of the two previous number \n",
    "\n",
    "def Fibonacci(num):\n",
    "    # this is the base case\n",
    "    if num <= 1:\n",
    "        return(num)\n",
    "    else:\n",
    "        return(Fibonacci(num-1)+Fibonacci(num-2))\n",
    "        \n",
    "\n",
    "n = int(input())\n",
    "\n",
    "lst =[Fibonacci(i) for i in range(n+1)]\n",
    "print(f\"the fibonacci squnce \")\n",
    "print(lst)"
   ]
  },
  {
   "cell_type": "code",
   "execution_count": 11,
   "metadata": {},
   "outputs": [
    {
     "name": "stdout",
     "output_type": "stream",
     "text": [
      "Harmonic sequence up to 14 terms:\n",
      "1\n",
      "1.5\n",
      "1.833\n",
      "2.083\n",
      "2.283\n",
      "2.45\n",
      "2.593\n",
      "2.718\n",
      "2.829\n",
      "2.929\n",
      "3.02\n",
      "3.103\n",
      "3.18\n",
      "3.252\n"
     ]
    }
   ],
   "source": [
    "def harmonic_sequence(n):\n",
    "    if n == 1:\n",
    "        return 1\n",
    "    else:\n",
    "        return 1 / n + harmonic_sequence(n - 1)\n",
    "\n",
    "# Example usage:\n",
    "n_terms = int(input())\n",
    "print(\"Harmonic sequence up to\", n_terms, \"terms:\")\n",
    "for i in range(1, n_terms + 1):\n",
    "    print(round(harmonic_sequence(i),3))"
   ]
  }
 ],
 "metadata": {
  "kernelspec": {
   "display_name": "Python 3",
   "language": "python",
   "name": "python3"
  },
  "language_info": {
   "codemirror_mode": {
    "name": "ipython",
    "version": 3
   },
   "file_extension": ".py",
   "mimetype": "text/x-python",
   "name": "python",
   "nbconvert_exporter": "python",
   "pygments_lexer": "ipython3",
   "version": "3.12.2"
  }
 },
 "nbformat": 4,
 "nbformat_minor": 2
}
