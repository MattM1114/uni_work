{
 "cells": [
  {
   "cell_type": "code",
   "execution_count": 15,
   "metadata": {},
   "outputs": [
    {
     "name": "stdout",
     "output_type": "stream",
     "text": [
      "[0, 1, 1, 2, 3, 5, 8, 13, 21, 34, 55, 89, 144, 233, 377]\n"
     ]
    }
   ],
   "source": [
    "# the Fibonacci is when the next sum of the two previous number \n",
    "\n",
    "def Fibonacci(num):\n",
    "    # this is the base case\n",
    "    if num <= 1:\n",
    "        return(num)\n",
    "    else:\n",
    "        return(Fibonacci(num-1)+Fibonacci(num-2))\n",
    "        \n",
    "\n",
    "n = int(input())\n",
    "\n",
    "lst =[Fibonacci(i) for i in range(n+1)]\n",
    "print(\"the fibonacci squnce \")\n",
    "print(lst)"
   ]
  },
  {
   "cell_type": "code",
   "execution_count": 12,
   "metadata": {},
   "outputs": [
    {
     "name": "stdout",
     "output_type": "stream",
     "text": [
      "the padovan sequence\n",
      "[1, 1, 1, 2, 2, 3, 4, 5, 7, 9, 12, 16, 21, 28, 37, 49]\n"
     ]
    }
   ],
   "source": [
    "# this is the padovan sequence\n",
    "def padovan(num):\n",
    "    if num < 3:\n",
    "        return(1)\n",
    "    else:\n",
    "        return(padovan(num-2)+padovan(num-3))\n",
    "    \n",
    "\n",
    "n= int(input())\n",
    "l =[padovan(i) for i in range(n +1)]\n",
    "print(\"the padovan sequence\")\n",
    "\n",
    "print(l)"
   ]
  },
  {
   "cell_type": "code",
   "execution_count": 1,
   "metadata": {},
   "outputs": [
    {
     "ename": "ValueError",
     "evalue": "invalid literal for int() with base 10: ''",
     "output_type": "error",
     "traceback": [
      "\u001b[1;31m---------------------------------------------------------------------------\u001b[0m",
      "\u001b[1;31mValueError\u001b[0m                                Traceback (most recent call last)",
      "Cell \u001b[1;32mIn[1], line 6\u001b[0m\n\u001b[0;32m      3\u001b[0m gnum \u001b[38;5;241m=\u001b[39m random\u001b[38;5;241m.\u001b[39mrandint(\u001b[38;5;241m1\u001b[39m,\u001b[38;5;241m100\u001b[39m)\n\u001b[0;32m      5\u001b[0m \u001b[38;5;28;01mfor\u001b[39;00m i \u001b[38;5;129;01min\u001b[39;00m \u001b[38;5;28mrange\u001b[39m(\u001b[38;5;241m10\u001b[39m):\n\u001b[1;32m----> 6\u001b[0m     unum \u001b[38;5;241m=\u001b[39m \u001b[38;5;28;43mint\u001b[39;49m\u001b[43m(\u001b[49m\u001b[38;5;28;43minput\u001b[39;49m\u001b[43m(\u001b[49m\u001b[38;5;124;43m\"\u001b[39;49m\u001b[38;5;124;43mplease enter a number between 1 and 100 \u001b[39;49m\u001b[38;5;124;43m\"\u001b[39;49m\u001b[43m)\u001b[49m\u001b[43m)\u001b[49m\n\u001b[0;32m      7\u001b[0m     \u001b[38;5;28;01mif\u001b[39;00m i \u001b[38;5;241m<\u001b[39m \u001b[38;5;241m10\u001b[39m:\n\u001b[0;32m      8\u001b[0m         \u001b[38;5;28;01mif\u001b[39;00m gnum \u001b[38;5;241m<\u001b[39m unum:\n",
      "\u001b[1;31mValueError\u001b[0m: invalid literal for int() with base 10: ''"
     ]
    }
   ],
   "source": [
    "import random\n",
    "\n",
    "gnum = random.randint(1,100)\n",
    "\n",
    "for i in range(10):\n",
    "    unum = int(input(\"please enter a number between 1 and 100 \"))\n",
    "    if i < 10:\n",
    "        if gnum < unum:\n",
    "            print(\"too high\")\n",
    "        elif gnum > unum:\n",
    "            print(\"too low\")\n",
    "        else:\n",
    "            print(f\"that is the right number you attempted {i}\")\n",
    "            break\n",
    "else:\n",
    "    print(\"you have exceeded the amount of available chances\")\n",
    "\n"
   ]
  },
  {
   "cell_type": "code",
   "execution_count": 2,
   "metadata": {},
   "outputs": [
    {
     "name": "stdout",
     "output_type": "stream",
     "text": [
      "too high\n",
      "too low\n",
      "too high\n",
      "that is the right number you got it in 3\n"
     ]
    }
   ],
   "source": [
    "import random\n",
    "# here I imported the random number generator from random\n",
    "def gussing_game():\n",
    "    # here i used it to generate the random number \n",
    "    num = random.randint(1,100)\n",
    "    i = 0\n",
    "\n",
    "    # here i setup a while loop to give the user 10 chance to guess the number \n",
    "    while i < 10:\n",
    "        user = int(input(\"enter a number between 1 and 100\"))\n",
    "        if num < user:\n",
    "            print (\"too high\")\n",
    "        elif num > user:\n",
    "            print (\"too low\")\n",
    "        else:\n",
    "            print(f\"that is the right number you got it in {i}\")\n",
    "            break\n",
    "        i += 1\n",
    "    else:\n",
    "        print(f\"you have exceeded the amount of available chances the right number is {num}\")\n",
    "\n",
    "\n",
    "def main():\n",
    "    gussing_game()\n",
    "\n",
    "main()"
   ]
  },
  {
   "cell_type": "code",
   "execution_count": 9,
   "metadata": {},
   "outputs": [
    {
     "name": "stdout",
     "output_type": "stream",
     "text": [
      "    \n",
      "   *\n",
      "  ***\n",
      " *****\n",
      "* * * * \n",
      "* * * * \n",
      "* * * * \n",
      "* * * * \n"
     ]
    }
   ],
   "source": [
    "rows =int(input())\n",
    "\n",
    "\n",
    "for i in range(rows):\n",
    "    print(\" \"*(rows - i) + \"*\"*(2*i-1))\n",
    "\n",
    "for j in range(rows):\n",
    "    print(\"* \" * rows)\n"
   ]
  },
  {
   "cell_type": "code",
   "execution_count": 10,
   "metadata": {},
   "outputs": [
    {
     "name": "stdout",
     "output_type": "stream",
     "text": [
      "* * * * \n",
      "*     * \n",
      "*     * \n",
      "* * * * \n"
     ]
    }
   ],
   "source": [
    "# Empty square pattern\n",
    "for i in range(rows):\n",
    "    if i == 0 or i == rows - 1:\n",
    "        print(\"* \" * rows)\n",
    "    else:\n",
    "        print(\"* \" + \"  \" * (rows - 2) + \"* \")"
   ]
  },
  {
   "cell_type": "code",
   "execution_count": 11,
   "metadata": {},
   "outputs": [
    {
     "name": "stdout",
     "output_type": "stream",
     "text": [
      "* * * * \n",
      "*     * \n",
      "*     * \n",
      "* * * * \n"
     ]
    }
   ],
   "source": [
    "print(\"* \" * rows)\n",
    "for i in range(rows - 2):\n",
    "    print(\"* \" + \"  \" * (rows - 2) + \"* \")\n",
    "print(\"* \" * rows)"
   ]
  }
 ],
 "metadata": {
  "kernelspec": {
   "display_name": "Python 3",
   "language": "python",
   "name": "python3"
  },
  "language_info": {
   "codemirror_mode": {
    "name": "ipython",
    "version": 3
   },
   "file_extension": ".py",
   "mimetype": "text/x-python",
   "name": "python",
   "nbconvert_exporter": "python",
   "pygments_lexer": "ipython3",
   "version": "3.12.2"
  }
 },
 "nbformat": 4,
 "nbformat_minor": 2
}
