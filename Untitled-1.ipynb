{
 "cells": [
  {
   "cell_type": "code",
   "execution_count": 1,
   "metadata": {},
   "outputs": [
    {
     "name": "stdout",
     "output_type": "stream",
     "text": [
      "Day\tOrganisms\n",
      "1\t3\n",
      "2\t3.9000000000000004\n",
      "3\t5.07\n",
      "4\t6.591\n",
      "5\t8.5683\n",
      "6\t11.138790000000002\n",
      "7\t14.480427000000002\n",
      "8\t18.824555100000005\n",
      "9\t24.471921630000008\n",
      "10\t31.813498119000013\n"
     ]
    }
   ],
   "source": [
    "# collect user input (organisms)\n",
    "# it will increase by 30% each day over 10days\n",
    "# and there should be a table \n",
    "# to display the results\n",
    "print(f\"Day\\tOrganisms\")\n",
    "organisms = int(input(\"Enter initial organisms quantity: \"))\n",
    "print(f\"1\\t{organisms}\")\n",
    "for day in range(2,11):\n",
    "    organisms *=  1.3\n",
    "    print(f\"{day}\\t{organisms}\")\n"
   ]
  },
  {
   "cell_type": "code",
   "execution_count": 2,
   "metadata": {},
   "outputs": [
    {
     "name": "stdout",
     "output_type": "stream",
     "text": [
      "welcome to my restaurant Matthew this is our menu\n",
      "0:chicken warp\n",
      "1:beef burger\n",
      "2:chicken burger\n",
      "3:pizza\n",
      "\n",
      "thankyou ordered 3:pizza.\n",
      "thankyou for choosing our restaurant today Matthew \n"
     ]
    }
   ],
   "source": [
    "#this will get the user name for later\n",
    "name = input(\"please enter your name  \")\n",
    "menu = [\"0:chicken warp\", \"1:beef burger\",\"2:chicken burger\",\"3:pizza\"]\n",
    "def welcoming(stirng):\n",
    "    print(f\"welcome to my restaurant {stirng} this is our menu\")\n",
    "\n",
    "def show_menu():\n",
    "    for i in range(4):\n",
    "        print(f\"{menu[i]}\")\n",
    "\n",
    "# this will allow the user to order \n",
    "def order():\n",
    "    order = int(input(\"please enter a number between 0 - 3 to order.\"))\n",
    "    while order < 4:\n",
    "        print(f\"\\nthankyou ordered {menu[order]}.\")\n",
    "        \n",
    "        break\n",
    "    else:\n",
    "        print(\"your order is invalid\")\n",
    "        \n",
    "\n",
    "def main(val):\n",
    "        welcoming(val)\n",
    "        show_menu()\n",
    "        order()\n",
    "        print(f\"\\nthankyou for choosing our restaurant today {val} \")\n",
    "\n",
    "main(name)\n",
    "\n"
   ]
  }
 ],
 "metadata": {
  "kernelspec": {
   "display_name": "Python 3",
   "language": "python",
   "name": "python3"
  },
  "language_info": {
   "codemirror_mode": {
    "name": "ipython",
    "version": 3
   },
   "file_extension": ".py",
   "mimetype": "text/x-python",
   "name": "python",
   "nbconvert_exporter": "python",
   "pygments_lexer": "ipython3",
   "version": "3.12.2"
  }
 },
 "nbformat": 4,
 "nbformat_minor": 2
}
