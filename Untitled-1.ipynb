{
 "cells": [
  {
   "cell_type": "code",
   "execution_count": null,
   "metadata": {},
   "outputs": [],
   "source": [
    "import random\n",
    "user = int(input(\"please enter a number between 0 and 100\"))\n",
    "#this function will generate a random number\n",
    "def random_number():\n",
    "    num = random.randint(0,100)\n",
    "    return num\n",
    "\n",
    "def main():\n",
    "    random_num=random_number()\n",
    "    i = 0\n",
    "    while i < 10:\n",
    "        if un > random_num:\n",
    "            print(\"please try a smaller number\")\n",
    "            un = int(input(\"please enter a number between 0 and 100\"))\n",
    "        elif un < random_num:\n",
    "            print(\"please try a larger number\")\n",
    "            un = int(input(\"please enter a number between 0 and 100\"))\n",
    "        else:\n",
    "            print( \"you win\")\n",
    "        i += 1 # increment\n",
    "    \n",
    "    "
   ]
  }
 ],
 "metadata": {
  "kernelspec": {
   "display_name": "Python 3",
   "language": "python",
   "name": "python3"
  },
  "language_info": {
   "name": "python",
   "version": "3.12.2"
  }
 },
 "nbformat": 4,
 "nbformat_minor": 2
}
