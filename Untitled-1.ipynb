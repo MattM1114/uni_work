{
 "cells": [
  {
   "cell_type": "code",
   "execution_count": 20,
   "metadata": {},
   "outputs": [],
   "source": [
    "read_file = open(\"sales_data_063952.csv\", \"r\")\n",
    "wright_file = open(\"sales_data_06395.txt\",\"w\")\n",
    "\n",
    "# here I will be reading from read_file and writhing to the wright_file\n",
    "for line in read_file:\n",
    "    wright_file.write(line)"
   ]
  }
 ],
 "metadata": {
  "kernelspec": {
   "display_name": "Python 3",
   "language": "python",
   "name": "python3"
  },
  "language_info": {
   "codemirror_mode": {
    "name": "ipython",
    "version": 3
   },
   "file_extension": ".py",
   "mimetype": "text/x-python",
   "name": "python",
   "nbconvert_exporter": "python",
   "pygments_lexer": "ipython3",
   "version": "3.12.2"
  }
 },
 "nbformat": 4,
 "nbformat_minor": 2
}
